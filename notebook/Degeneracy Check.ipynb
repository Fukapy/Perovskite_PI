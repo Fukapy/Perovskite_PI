{
 "cells": [
  {
   "cell_type": "markdown",
   "id": "2bc65e0b-1f55-4dd4-896a-14bf0268454d",
   "metadata": {},
   "source": [
    "# Degeneracy Check"
   ]
  },
  {
   "cell_type": "code",
   "execution_count": 1,
   "id": "e1ee3ecd-8304-453d-b67c-63e2e5533711",
   "metadata": {},
   "outputs": [],
   "source": [
    "import pandas as pd\n",
    "import numpy as np\n",
    "import warnings\n",
    "warnings.filterwarnings('ignore')\n",
    "import datetime\n",
    "from scipy.sparse import csr_matrix, save_npz, load_npz"
   ]
  },
  {
   "cell_type": "code",
   "execution_count": 2,
   "id": "b9684b06-27d1-4a48-8815-241cb31d7c52",
   "metadata": {},
   "outputs": [],
   "source": [
    "# Function to load saved vectors\n",
    "def vec2csr(vec, csr_file_name, columns_file_name):\n",
    "    csr = csr_matrix(vec)\n",
    "    save_npz(csr_file_name, csr)\n",
    "    if columns_file_name != None:\n",
    "        columns_arr = np.array(vec.columns)\n",
    "        np.save(columns_file_name, columns_arr)\n",
    "def csr2vec(csr_file_name, columns_file_name):\n",
    "    if columns_file_name == None:\n",
    "        vec = load_npz(csr_file_name).toarray()\n",
    "    else:\n",
    "        vec = pd.DataFrame(load_npz(csr_file_name).toarray(),\n",
    "             columns=np.load(columns_file_name,allow_pickle=True))\n",
    "    return vec"
   ]
  },
  {
   "cell_type": "code",
   "execution_count": 3,
   "id": "97f678f9-79b8-49f1-9e86-02f2353017d3",
   "metadata": {},
   "outputs": [],
   "source": [
    "y = pd.read_csv(\"data/raw/Perovskite_36937data.csv\")[\"JV_default_PCE\"]"
   ]
  },
  {
   "cell_type": "markdown",
   "id": "ebf9f0b0-0aa5-4b00-adfa-12d90774d443",
   "metadata": {},
   "source": [
    "# Find the index of a degenerate vector"
   ]
  },
  {
   "cell_type": "code",
   "execution_count": 4,
   "id": "e035b5da-331b-4845-9f23-4d2eea0af354",
   "metadata": {},
   "outputs": [],
   "source": [
    "X_0 = csr2vec(\"data/csr/all_sp0_oliynyk_zero_csr.npz\",\n",
    "            \"data/csr/all_sp0_oliynyk_zero_columns.npy\")"
   ]
  },
  {
   "cell_type": "code",
   "execution_count": 5,
   "id": "9afa6476-00e2-4010-9e2a-53635d54b173",
   "metadata": {},
   "outputs": [
    {
     "name": "stdout",
     "output_type": "stream",
     "text": [
      "5323\n"
     ]
    }
   ],
   "source": [
    "sum_dup=[]\n",
    "df = X_0[0:]\n",
    "grouped = df.groupby(df.sum(axis=1))\n",
    "for key, indices in grouped.groups.items():\n",
    "    if len(indices) > 1:\n",
    "        sum_dup.append(list(df.index[indices]))\n",
    "sum_dup.sort()\n",
    "print(len(sum_dup))"
   ]
  },
  {
   "cell_type": "code",
   "execution_count": 6,
   "id": "b34be0f2-c545-4063-9505-4c359ac19cdb",
   "metadata": {},
   "outputs": [
    {
     "name": "stdout",
     "output_type": "stream",
     "text": [
      "2023-06-28 21:34:58.518142\n",
      "0 0:00:04.065601\n",
      "200 0:13:29.126056\n",
      "400 0:26:11.677782\n",
      "600 0:38:58.880621\n",
      "800 0:51:14.609282\n",
      "1000 1:03:51.227214\n",
      "1200 1:16:49.105950\n",
      "1400 1:29:20.942536\n",
      "1600 1:41:53.727451\n",
      "1800 1:54:01.637465\n",
      "2000 2:06:32.572922\n",
      "2200 2:18:52.479868\n",
      "2400 2:31:30.142466\n",
      "2600 2:43:32.550469\n",
      "2800 2:55:26.062557\n",
      "3000 3:07:33.619090\n",
      "3200 3:19:38.597485\n",
      "3400 3:31:50.902741\n",
      "3600 3:44:13.210359\n",
      "3800 3:56:51.960452\n",
      "4000 4:09:13.648128\n",
      "4200 4:21:30.392349\n",
      "4400 4:33:56.072685\n",
      "4600 4:45:55.262770\n",
      "4800 4:58:00.626728\n",
      "5000 5:10:12.039864\n",
      "5200 5:22:25.360768\n",
      "processing time: 5:29:34.233039\n",
      "2023-06-29 03:04:32.760125\n"
     ]
    }
   ],
   "source": [
    "print(datetime.datetime.now())\n",
    "t1 = datetime.datetime.now()\n",
    "genuine_dup = []\n",
    "for j in range(len(sum_dup)):\n",
    "    df = pd.DataFrame(np.array(X_0)).iloc[sum_dup[j]]\n",
    "    grouped = df.groupby(df.columns.tolist(), as_index=False)\n",
    "    duplicated = grouped.filter(lambda x: len(x) > 1)\n",
    "    grouped_index = [duplicated.index[duplicated[df.columns.tolist()].eq(val).all(axis=1)].tolist() for val in duplicated[df.columns.tolist()].drop_duplicates().values]\n",
    "    genuine_dup.append(grouped_index)\n",
    "    if j % 200 == 0:\n",
    "        t = datetime.datetime.now()\n",
    "        print(j, t-t1)\n",
    "t2 = datetime.datetime.now()\n",
    "print(\"processing time:\", t2-t1)\n",
    "dup = [genuine_dup[j][k] for j in range(len(genuine_dup)) for k in range(len(genuine_dup[j]))]\n",
    "dup.sort()\n",
    "np.save(\"X0_dup_index.npy\",np.array(dup))\n",
    "print(datetime.datetime.now())"
   ]
  },
  {
   "cell_type": "code",
   "execution_count": 7,
   "id": "b06bc3e5-ae6a-4293-b89c-c5e4852c6f53",
   "metadata": {},
   "outputs": [],
   "source": [
    "X_1 = csr2vec(\"data/csr/all_sp1_oliynyk_zero_csr.npz\",\n",
    "            \"data/csr/all_sp1_oliynyk_zero_columns.npy\")"
   ]
  },
  {
   "cell_type": "code",
   "execution_count": 8,
   "id": "1191d9bc-1e30-49f4-853c-57465453fd25",
   "metadata": {},
   "outputs": [
    {
     "name": "stdout",
     "output_type": "stream",
     "text": [
      "5592\n"
     ]
    }
   ],
   "source": [
    "sum_dup=[]\n",
    "df = X_1[0:]\n",
    "grouped = df.groupby(df.sum(axis=1))\n",
    "for key, indices in grouped.groups.items():\n",
    "    if len(indices) > 1:\n",
    "        sum_dup.append(list(df.index[indices]))\n",
    "sum_dup.sort()\n",
    "print(len(sum_dup))"
   ]
  },
  {
   "cell_type": "code",
   "execution_count": 9,
   "id": "f4622715-c14b-47f9-b09f-a42852dfe714",
   "metadata": {},
   "outputs": [
    {
     "name": "stdout",
     "output_type": "stream",
     "text": [
      "2023-06-29 03:04:35.718746\n",
      "0 0:00:02.745892\n",
      "200 0:12:38.710519\n",
      "400 0:25:04.705582\n",
      "600 0:37:28.593908\n",
      "800 0:49:33.686007\n",
      "1000 1:01:23.461165\n",
      "1200 1:13:49.939973\n",
      "1400 1:26:05.849154\n",
      "1600 1:38:20.416081\n",
      "1800 1:50:29.752544\n",
      "2000 2:02:18.125382\n",
      "2200 2:14:53.986734\n",
      "2400 2:26:53.427293\n",
      "2600 2:39:17.377331\n",
      "2800 2:50:59.405020\n",
      "3000 3:02:48.041265\n",
      "3200 3:14:41.113240\n",
      "3400 3:26:39.691201\n",
      "3600 3:38:32.942386\n",
      "3800 3:50:50.022384\n",
      "4000 4:03:07.862284\n",
      "4200 4:15:18.024187\n",
      "4400 4:27:15.108116\n",
      "4600 4:39:31.131815\n",
      "4800 4:51:44.750176\n",
      "5000 5:03:31.950056\n",
      "5200 5:15:18.189419\n",
      "5400 5:27:24.634256\n",
      "processing time: 5:38:36.066556\n",
      "2023-06-29 08:43:11.801077\n"
     ]
    }
   ],
   "source": [
    "print(datetime.datetime.now())\n",
    "t1 = datetime.datetime.now()\n",
    "genuine_dup = []\n",
    "for j in range(len(sum_dup)):\n",
    "    df = pd.DataFrame(np.array(X_1)).iloc[sum_dup[j]]\n",
    "    grouped = df.groupby(df.columns.tolist(), as_index=False)\n",
    "    duplicated = grouped.filter(lambda x: len(x) > 1)\n",
    "    grouped_index = [duplicated.index[duplicated[df.columns.tolist()].eq(val).all(axis=1)].tolist() for val in duplicated[df.columns.tolist()].drop_duplicates().values]\n",
    "    genuine_dup.append(grouped_index)\n",
    "    if j % 200 == 0:\n",
    "        t = datetime.datetime.now()\n",
    "        print(j, t-t1)\n",
    "t2 = datetime.datetime.now()\n",
    "print(\"processing time:\", t2-t1)\n",
    "dup = [genuine_dup[j][k] for j in range(len(genuine_dup)) for k in range(len(genuine_dup[j]))]\n",
    "dup.sort()\n",
    "np.save(\"X1_dup_index.npy\",np.array(dup))\n",
    "print(datetime.datetime.now())"
   ]
  },
  {
   "cell_type": "code",
   "execution_count": 10,
   "id": "64fcc940-9314-4ff8-b155-915e84ea6956",
   "metadata": {},
   "outputs": [],
   "source": [
    "X_2 = csr2vec(\"data/csr/all_sp2_oliynyk_zero_csr.npz\",\n",
    "            \"data/csr/all_sp2_oliynyk_zero_columns.npy\")"
   ]
  },
  {
   "cell_type": "code",
   "execution_count": 11,
   "id": "0e0bf731-5c38-46ce-9516-e4ec6b6486e0",
   "metadata": {},
   "outputs": [
    {
     "name": "stdout",
     "output_type": "stream",
     "text": [
      "5655\n"
     ]
    }
   ],
   "source": [
    "sum_dup=[]\n",
    "df = X_2[0:]\n",
    "grouped = df.groupby(df.sum(axis=1))\n",
    "for key, indices in grouped.groups.items():\n",
    "    if len(indices) > 1:\n",
    "        sum_dup.append(list(df.index[indices]))\n",
    "sum_dup.sort()\n",
    "print(len(sum_dup))"
   ]
  },
  {
   "cell_type": "code",
   "execution_count": 12,
   "id": "86889d01-9ee1-4691-b770-62dcfccd6501",
   "metadata": {},
   "outputs": [
    {
     "name": "stdout",
     "output_type": "stream",
     "text": [
      "2023-06-29 08:43:14.162642\n",
      "0 0:00:03.092916\n",
      "200 0:09:58.074834\n",
      "400 0:19:33.706084\n",
      "600 0:29:10.394933\n",
      "800 0:38:27.336782\n",
      "1000 0:47:41.327697\n",
      "1200 0:57:13.277213\n",
      "1400 1:06:54.754844\n",
      "1600 1:16:28.699589\n",
      "1800 1:25:57.800617\n",
      "2000 1:35:11.891460\n",
      "2200 1:44:54.581856\n",
      "2400 1:54:18.725230\n",
      "2600 2:03:54.406687\n",
      "2800 2:13:06.930589\n",
      "3000 2:22:11.170115\n",
      "3200 2:31:34.327096\n",
      "3400 2:40:33.160919\n",
      "3600 2:50:10.035130\n",
      "3800 2:59:30.779407\n",
      "4000 3:09:09.716519\n",
      "4200 3:18:44.130831\n",
      "4400 3:27:51.677659\n",
      "4600 3:37:21.770433\n",
      "4800 3:46:56.055467\n",
      "5000 3:56:12.365051\n",
      "5200 4:05:18.498945\n",
      "5400 4:14:53.055902\n",
      "5600 4:24:14.282552\n",
      "processing time: 4:26:33.861298\n",
      "2023-06-29 13:09:48.035095\n"
     ]
    }
   ],
   "source": [
    "print(datetime.datetime.now())\n",
    "t1 = datetime.datetime.now()\n",
    "genuine_dup = []\n",
    "for j in range(len(sum_dup)):\n",
    "    df = pd.DataFrame(np.array(X_2)).iloc[sum_dup[j]]\n",
    "    grouped = df.groupby(df.columns.tolist(), as_index=False)\n",
    "    duplicated = grouped.filter(lambda x: len(x) > 1)\n",
    "    grouped_index = [duplicated.index[duplicated[df.columns.tolist()].eq(val).all(axis=1)].tolist() for val in duplicated[df.columns.tolist()].drop_duplicates().values]\n",
    "    genuine_dup.append(grouped_index)\n",
    "    if j % 200 == 0:\n",
    "        t = datetime.datetime.now()\n",
    "        print(j, t-t1)\n",
    "t2 = datetime.datetime.now()\n",
    "print(\"processing time:\", t2-t1)\n",
    "dup = [genuine_dup[j][k] for j in range(len(genuine_dup)) for k in range(len(genuine_dup[j]))]\n",
    "dup.sort()\n",
    "np.save(\"X2_dup_index.npy\",np.array(dup))\n",
    "print(datetime.datetime.now())"
   ]
  },
  {
   "cell_type": "code",
   "execution_count": 13,
   "id": "47f088de-af70-4036-8e15-944f18dbd9a1",
   "metadata": {},
   "outputs": [],
   "source": [
    "X_3 = csr2vec(\"data/csr/all_sp3_oliynyk_zero_csr.npz\",\n",
    "            \"data/csr/all_sp3_oliynyk_zero_columns.npy\")"
   ]
  },
  {
   "cell_type": "code",
   "execution_count": 14,
   "id": "5f300a51-fd7d-42d3-a46a-457d67d96201",
   "metadata": {},
   "outputs": [
    {
     "name": "stdout",
     "output_type": "stream",
     "text": [
      "5750\n"
     ]
    }
   ],
   "source": [
    "sum_dup=[]\n",
    "df = X_3[0:]\n",
    "grouped = df.groupby(df.sum(axis=1))\n",
    "for key, indices in grouped.groups.items():\n",
    "    if len(indices) > 1:\n",
    "        sum_dup.append(list(df.index[indices]))\n",
    "sum_dup.sort()\n",
    "print(len(sum_dup))"
   ]
  },
  {
   "cell_type": "code",
   "execution_count": 15,
   "id": "63c3618e-c022-48f1-98fa-32934b57b05f",
   "metadata": {},
   "outputs": [
    {
     "name": "stdout",
     "output_type": "stream",
     "text": [
      "2023-06-29 13:09:50.288115\n",
      "0 0:00:03.002436\n",
      "200 0:09:26.854255\n",
      "400 0:18:48.495597\n",
      "600 0:28:01.611908\n",
      "800 0:36:57.515058\n",
      "1000 0:45:45.931410\n",
      "1200 0:54:55.075416\n",
      "1400 1:04:13.777653\n",
      "1600 1:13:10.402462\n",
      "1800 1:22:12.687321\n",
      "2000 1:31:08.424845\n",
      "2200 1:40:13.699729\n",
      "2400 1:49:20.916050\n",
      "2600 1:58:38.436197\n",
      "2800 2:07:21.008064\n",
      "3000 2:16:00.948116\n",
      "3200 2:24:47.316810\n",
      "3400 2:33:22.760940\n",
      "3600 2:42:32.461109\n",
      "3800 2:51:14.901365\n",
      "4000 3:00:27.392037\n",
      "4200 3:09:51.014219\n",
      "4400 3:18:54.470424\n",
      "4600 3:27:45.503863\n",
      "4800 3:36:53.237578\n",
      "5000 3:45:59.775527\n",
      "5200 3:54:46.014403\n",
      "5400 4:03:50.405571\n",
      "5600 4:12:58.543737\n",
      "processing time: 4:19:31.694662\n",
      "2023-06-29 17:29:21.993817\n"
     ]
    }
   ],
   "source": [
    "print(datetime.datetime.now())\n",
    "t1 = datetime.datetime.now()\n",
    "genuine_dup = []\n",
    "for j in range(len(sum_dup)):\n",
    "    df = pd.DataFrame(np.array(X_3)).iloc[sum_dup[j]]\n",
    "    grouped = df.groupby(df.columns.tolist(), as_index=False)\n",
    "    duplicated = grouped.filter(lambda x: len(x) > 1)\n",
    "    grouped_index = [duplicated.index[duplicated[df.columns.tolist()].eq(val).all(axis=1)].tolist() for val in duplicated[df.columns.tolist()].drop_duplicates().values]\n",
    "    genuine_dup.append(grouped_index)\n",
    "    if j % 200 == 0:\n",
    "        t = datetime.datetime.now()\n",
    "        print(j, t-t1)\n",
    "t2 = datetime.datetime.now()\n",
    "print(\"processing time:\", t2-t1)\n",
    "dup = [genuine_dup[j][k] for j in range(len(genuine_dup)) for k in range(len(genuine_dup[j]))]\n",
    "dup.sort()\n",
    "np.save(\"X3_dup_index.npy\",np.array(dup))\n",
    "print(datetime.datetime.now())"
   ]
  },
  {
   "cell_type": "markdown",
   "id": "60729123-59d0-4c19-bec4-b815b74fbcbe",
   "metadata": {},
   "source": [
    "# How many index pairs exist?"
   ]
  },
  {
   "cell_type": "code",
   "execution_count": 5,
   "id": "59deb6a7-a9fb-4144-b909-3160d8689d32",
   "metadata": {},
   "outputs": [],
   "source": [
    "X0_dup_index = np.load(\"X0_dup_index.npy\", allow_pickle=True)\n",
    "X1_dup_index = np.load(\"X1_dup_index.npy\", allow_pickle=True)\n",
    "X2_dup_index = np.load(\"X2_dup_index.npy\", allow_pickle=True)\n",
    "X3_dup_index = np.load(\"X3_dup_index.npy\", allow_pickle=True)"
   ]
  },
  {
   "cell_type": "code",
   "execution_count": 6,
   "id": "0f3d84f7-3b91-492f-930d-cb611d112d27",
   "metadata": {},
   "outputs": [
    {
     "name": "stdout",
     "output_type": "stream",
     "text": [
      "6441\n",
      "6446\n",
      "6453\n",
      "6472\n"
     ]
    }
   ],
   "source": [
    "print(len(X0_dup_index))\n",
    "print(len(X1_dup_index))\n",
    "print(len(X2_dup_index))\n",
    "print(len(X3_dup_index))"
   ]
  },
  {
   "cell_type": "markdown",
   "id": "0764c082-eb70-439a-a6f1-4c04e48fd995",
   "metadata": {},
   "source": [
    "# How many data points are degenerated?"
   ]
  },
  {
   "cell_type": "code",
   "execution_count": 7,
   "id": "0fd5b941-8e18-47ce-9bd8-0edbf9645ae8",
   "metadata": {},
   "outputs": [],
   "source": [
    "def count_elements(nested_list):\n",
    "    count = 0\n",
    "    for element in nested_list:\n",
    "        if isinstance(element, list):\n",
    "            count += count_elements(element)\n",
    "        else:\n",
    "            count += 1  # If element is not a list, count the number of elements as 1.\n",
    "    return count"
   ]
  },
  {
   "cell_type": "code",
   "execution_count": 8,
   "id": "d8c38ad4-946b-4b1e-913c-b2ad3654ba08",
   "metadata": {},
   "outputs": [
    {
     "name": "stdout",
     "output_type": "stream",
     "text": [
      "20677\n",
      "20695\n",
      "20737\n",
      "21056\n"
     ]
    }
   ],
   "source": [
    "# nested_list element count\n",
    "print(count_elements(X0_dup_index))\n",
    "print(count_elements(X1_dup_index))\n",
    "print(count_elements(X2_dup_index))\n",
    "print(count_elements(X3_dup_index))"
   ]
  },
  {
   "cell_type": "code",
   "execution_count": 9,
   "id": "1ef90b9a-0eda-47c2-961b-38549cc8773c",
   "metadata": {},
   "outputs": [
    {
     "name": "stdout",
     "output_type": "stream",
     "text": [
      "22701\n",
      "22688\n",
      "22653\n",
      "22353\n"
     ]
    }
   ],
   "source": [
    "# data point\n",
    "print(36937-20677+6441)\n",
    "print(36937-20695+6446)\n",
    "print(36937-20737+6453)\n",
    "print(36937-21056+6472)"
   ]
  },
  {
   "cell_type": "code",
   "execution_count": null,
   "id": "0dcebbaa-84e8-45b0-9c70-ec4473f3ab78",
   "metadata": {},
   "outputs": [],
   "source": []
  }
 ],
 "metadata": {
  "kernelspec": {
   "display_name": "Python 3 (ipykernel)",
   "language": "python",
   "name": "python3"
  },
  "language_info": {
   "codemirror_mode": {
    "name": "ipython",
    "version": 3
   },
   "file_extension": ".py",
   "mimetype": "text/x-python",
   "name": "python",
   "nbconvert_exporter": "python",
   "pygments_lexer": "ipython3",
   "version": "3.9.0"
  }
 },
 "nbformat": 4,
 "nbformat_minor": 5
}
